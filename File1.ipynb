{
 "cells": [
  {
   "cell_type": "raw",
   "metadata": {},
   "source": [
    "I) If-Else Assignment"
   ]
  },
  {
   "cell_type": "raw",
   "metadata": {},
   "source": [
    "Tasks to be performed:\n",
    "1. Input the values of a and b as 10 and 20 respectively. \n",
    "\n",
    "Now check if a is greater or b is greater using if condition. Think about all the edge cases, and print the statements accordingly."
   ]
  },
  {
   "cell_type": "code",
   "execution_count": 2,
   "metadata": {},
   "outputs": [],
   "source": [
    "a = 10"
   ]
  },
  {
   "cell_type": "code",
   "execution_count": 3,
   "metadata": {},
   "outputs": [],
   "source": [
    "b = 20"
   ]
  },
  {
   "cell_type": "code",
   "execution_count": 4,
   "metadata": {},
   "outputs": [
    {
     "name": "stdout",
     "output_type": "stream",
     "text": [
      "10 is less than 20\n"
     ]
    }
   ],
   "source": [
    "if (a>b):\n",
    "    print(f'{a} is greater than {b}')\n",
    "else:\n",
    "    print(f'{a} is less than {b}')"
   ]
  },
  {
   "cell_type": "raw",
   "metadata": {},
   "source": [
    "II) . Take three user inputs and print the greatest number from those inputs using if-else condition. Edge cases if any, should also be handled."
   ]
  },
  {
   "cell_type": "code",
   "execution_count": 12,
   "metadata": {},
   "outputs": [
    {
     "name": "stdout",
     "output_type": "stream",
     "text": [
      "Enter the 1st Number: 7\n",
      "Enter the 2nd Number: 6\n",
      "Enter the 3rd Number: 5\n",
      "7 is greater than 6 and 5\n"
     ]
    }
   ],
   "source": [
    "x = int(input('Enter the 1st Number: '))\n",
    "y = int(input('Enter the 2nd Number: '))\n",
    "z = int(input('Enter the 3rd Number: '))\n",
    "\n",
    "if (x>y) and (x>z):\n",
    "    print(f'{x} is greater than {y} and {z}')\n",
    "elif (y>z):\n",
    "    print(f'{y} is greater than {x} and {z}')\n",
    "else:\n",
    "    print(f'{z} is greater than {x} and {y}')"
   ]
  },
  {
   "cell_type": "raw",
   "metadata": {},
   "source": [
    "III) 1. Print the numbers from 1 to 10 using while loop."
   ]
  },
  {
   "cell_type": "code",
   "execution_count": 15,
   "metadata": {},
   "outputs": [
    {
     "name": "stdout",
     "output_type": "stream",
     "text": [
      "1\n",
      "2\n",
      "3\n",
      "4\n",
      "5\n",
      "6\n",
      "7\n",
      "8\n",
      "9\n",
      "10\n"
     ]
    }
   ],
   "source": [
    "n = 1\n",
    "while (n <= 10):\n",
    "    print(n)\n",
    "    n+=1\n",
    "    "
   ]
  },
  {
   "cell_type": "raw",
   "metadata": {},
   "source": [
    "IV) Create a list that is having 10,23,4,26,4,75,24,54 values and with the help of while loop, fetch the even numbers and print the numbers."
   ]
  },
  {
   "cell_type": "code",
   "execution_count": null,
   "metadata": {},
   "outputs": [],
   "source": [
    "list1 = [10,23,4,26,4,75,24,54]\n",
    "\n",
    "n = 0\n",
    "even_numbers = [] \n",
    "\n",
    "while (n<=len(list1)):\n",
    "    if (list1[n]%2==0):\n",
    "        even_numbers.append(list1[n])\n",
    "        n+=1\n",
    "print(even_numbers)\n",
    "        "
   ]
  },
  {
   "cell_type": "code",
   "execution_count": 21,
   "metadata": {},
   "outputs": [
    {
     "data": {
      "text/plain": [
       "True"
      ]
     },
     "execution_count": 21,
     "metadata": {},
     "output_type": "execute_result"
    }
   ],
   "source": [
    "list1[0]%2==0"
   ]
  },
  {
   "cell_type": "code",
   "execution_count": null,
   "metadata": {},
   "outputs": [],
   "source": []
  }
 ],
 "metadata": {
  "kernelspec": {
   "display_name": "Python 3",
   "language": "python",
   "name": "python3"
  },
  "language_info": {
   "codemirror_mode": {
    "name": "ipython",
    "version": 3
   },
   "file_extension": ".py",
   "mimetype": "text/x-python",
   "name": "python",
   "nbconvert_exporter": "python",
   "pygments_lexer": "ipython3",
   "version": "3.8.5"
  }
 },
 "nbformat": 4,
 "nbformat_minor": 4
}
