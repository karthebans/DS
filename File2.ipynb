{
 "cells": [
  {
   "cell_type": "markdown",
   "metadata": {},
   "source": [
    "### Module 2: Import Assignment"
   ]
  },
  {
   "cell_type": "raw",
   "metadata": {},
   "source": [
    "Create a python file named Module. \n",
    "\n",
    "a.Inside the file, define 4 methods named –addition, subtraction, multiplication, and division.\n",
    "\n",
    "b.Each method should only accept 2 arguments and should return the result of operation performed in each method. For e.g., addition() should return the sum of two arguments.\n",
    "\n",
    "c.Save the Module file in.py format.\n",
    "\n",
    "2.Open a new python file and import the Module.py file.\n",
    "\n",
    "a.Now call the 4 methods from the Module.py file, i.e., addition(), subtraction(), multiplication(), and division().\n",
    "\n",
    "3.From the Module file, import only the addition() and pass the argumentsso that it can display the result from the method.\n",
    "\n",
    "4.From the Module file, import only the subtraction() and pass the arguments so that it can display the result from the method.\n",
    "\n",
    "5.From the Module file, import both the multiplication() and division() and passthe arguments so that it can display the result from the methods."
   ]
  },
  {
   "cell_type": "code",
   "execution_count": 3,
   "metadata": {},
   "outputs": [],
   "source": [
    "from Module import addition,subtraction,multiplication,division"
   ]
  },
  {
   "cell_type": "code",
   "execution_count": 4,
   "metadata": {},
   "outputs": [
    {
     "name": "stdout",
     "output_type": "stream",
     "text": [
      "Enter the 1st Number: 3\n",
      "Enter the 2nd Number: 4\n",
      "The sum of 3 and 4 is: 7\n"
     ]
    }
   ],
   "source": [
    "addition()"
   ]
  },
  {
   "cell_type": "code",
   "execution_count": 6,
   "metadata": {},
   "outputs": [
    {
     "name": "stdout",
     "output_type": "stream",
     "text": [
      "Enter the 1st Number: 3\n",
      "Enter the 2nd Number: 4\n",
      "The product of 3 and 4 is: 12\n"
     ]
    }
   ],
   "source": [
    "multiplication()"
   ]
  },
  {
   "cell_type": "code",
   "execution_count": 8,
   "metadata": {},
   "outputs": [
    {
     "name": "stdout",
     "output_type": "stream",
     "text": [
      "Enter the 1st Number: 4\n",
      "Enter the 2nd Number: 2\n",
      "The division of 4 and 2 is: 2.0\n"
     ]
    }
   ],
   "source": [
    "division()"
   ]
  },
  {
   "cell_type": "markdown",
   "metadata": {},
   "source": [
    "### Module 2: Functions Assignment"
   ]
  },
  {
   "cell_type": "raw",
   "metadata": {},
   "source": [
    "Tasks to beperformed:\n",
    "\n",
    "1.Create a class named ‘Super’ and inside that class define a user-defined function named fun1.\n",
    "a.Inside the ‘fun1’ function, pass the message “This is function 1 in the Super class.” in the print statement."
   ]
  },
  {
   "cell_type": "code",
   "execution_count": 22,
   "metadata": {},
   "outputs": [],
   "source": [
    "class Super:\n",
    "    \n",
    "    def fun1(self):\n",
    "        print('This is function 1 in the Super class.')"
   ]
  },
  {
   "cell_type": "raw",
   "metadata": {},
   "source": [
    "2.Create another classed named ‘Modified_Super’and inherit this class from the Super class.\n",
    "\n",
    "a.Inside the Modified_Super class, create a function named ‘fun1’ and pass the following message inside the print statement: ‘This is function 1 in the Modified Super class.’\n",
    "b.Create another user-defined function named ‘fun2’ and pass the message: ‘This is the 2nd function from the Modified Super class’ in the print statement.\n",
    "c.After that, now create an object for the Modified_Super class and call the fun1()."
   ]
  },
  {
   "cell_type": "code",
   "execution_count": 23,
   "metadata": {},
   "outputs": [],
   "source": [
    "class Modified_Super(Super):\n",
    "    \n",
    "    def fun1(self):\n",
    "        print('This is function 1 in the Modified Super class.')\n",
    "    \n",
    "    def fun2(self):\n",
    "        print('This is the 2nd function from the Modified Super class')        "
   ]
  },
  {
   "cell_type": "code",
   "execution_count": 24,
   "metadata": {},
   "outputs": [
    {
     "name": "stdout",
     "output_type": "stream",
     "text": [
      "This is function 1 in the Modified Super class.\n"
     ]
    }
   ],
   "source": [
    "object = Modified_Super()\n",
    "object.fun1()"
   ]
  },
  {
   "cell_type": "raw",
   "metadata": {},
   "source": [
    "3.Create 2 methods named ‘Hello’. In the 1stHello method, pass only one argument and pass this message: ‘This function is only having 1 argument’. And in the 2ndHello method, pass two arguments and pass this message: ‘This function is having 2 arguments’.\n",
    "a.Try to call both the methods and analyze the output of both the methods."
   ]
  },
  {
   "cell_type": "code",
   "execution_count": 29,
   "metadata": {},
   "outputs": [],
   "source": [
    "class Hello:\n",
    "    \n",
    "    def hello1():\n",
    "        print('This function is only having 1 argument')\n",
    "        pass\n",
    "    \n",
    "    def hello2():\n",
    "        print('This function is having 2 arguments')\n",
    "        pass"
   ]
  },
  {
   "cell_type": "code",
   "execution_count": 32,
   "metadata": {},
   "outputs": [],
   "source": [
    "obj = Hello"
   ]
  },
  {
   "cell_type": "code",
   "execution_count": 31,
   "metadata": {},
   "outputs": [
    {
     "name": "stdout",
     "output_type": "stream",
     "text": [
      "This function is only having 1 argument\n"
     ]
    }
   ],
   "source": [
    "Hello.hello1()"
   ]
  },
  {
   "cell_type": "code",
   "execution_count": 33,
   "metadata": {},
   "outputs": [
    {
     "name": "stdout",
     "output_type": "stream",
     "text": [
      "This function is having 2 arguments\n"
     ]
    }
   ],
   "source": [
    "Hello.hello2()"
   ]
  },
  {
   "cell_type": "raw",
   "metadata": {},
   "source": [
    "4. Create a method named ‘Sum’ that can accept multiple user inputs. Now add those user-defined input values using for loop and the function should return the addition of the numbers."
   ]
  },
  {
   "cell_type": "code",
   "execution_count": 47,
   "metadata": {},
   "outputs": [],
   "source": [
    "def Sum(*values):\n",
    "   \n",
    "    s = 0\n",
    "    for i in values:\n",
    "        s = s+i\n",
    "    return s"
   ]
  },
  {
   "cell_type": "code",
   "execution_count": 48,
   "metadata": {},
   "outputs": [
    {
     "data": {
      "text/plain": [
       "18"
      ]
     },
     "execution_count": 48,
     "metadata": {},
     "output_type": "execute_result"
    }
   ],
   "source": [
    "Sum(3,4,5,6)"
   ]
  },
  {
   "cell_type": "raw",
   "metadata": {},
   "source": [
    "5.Create a class named ‘Encapsulation’:\n",
    "    a.Inside the class, first create a constructor. Inside the constructor, initialize originalValue variable as 10.\n",
    "    b.After creating the constructor, define a function named ‘Value’ and this function should return the variable that we have initialized in the constructor.\n",
    "    c.Now create 2ndfunction named setValue, and pass an argument named ‘newValue’. The task of this function will be to replace the value of the originalValue variable by the value of newValue variable."
   ]
  },
  {
   "cell_type": "code",
   "execution_count": 69,
   "metadata": {},
   "outputs": [],
   "source": [
    "class Encapsulation:\n",
    "    \n",
    "    def __init__(self, originalValue):\n",
    "        self.originalValue = 10\n",
    "        \n",
    "    def Value():\n",
    "        print(self.originalValue)\n",
    "        \n",
    "    def setValue(newValue):\n",
    "        originalValue = newValue\n",
    "        print(originalValue)"
   ]
  },
  {
   "cell_type": "code",
   "execution_count": 70,
   "metadata": {},
   "outputs": [],
   "source": [
    "obj = Encapsulation"
   ]
  },
  {
   "cell_type": "code",
   "execution_count": 71,
   "metadata": {},
   "outputs": [
    {
     "name": "stdout",
     "output_type": "stream",
     "text": [
      "2\n"
     ]
    }
   ],
   "source": [
    "obj.setValue(2)"
   ]
  }
 ],
 "metadata": {
  "kernelspec": {
   "display_name": "Python 3",
   "language": "python",
   "name": "python3"
  },
  "language_info": {
   "codemirror_mode": {
    "name": "ipython",
    "version": 3
   },
   "file_extension": ".py",
   "mimetype": "text/x-python",
   "name": "python",
   "nbconvert_exporter": "python",
   "pygments_lexer": "ipython3",
   "version": "3.8.5"
  }
 },
 "nbformat": 4,
 "nbformat_minor": 4
}
